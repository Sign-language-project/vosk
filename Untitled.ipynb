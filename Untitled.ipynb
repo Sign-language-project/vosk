{
 "cells": [
  {
   "cell_type": "code",
   "execution_count": 6,
   "id": "31ec7f27",
   "metadata": {},
   "outputs": [
    {
     "name": "stdout",
     "output_type": "stream",
     "text": [
      "Requirement already satisfied: vosk in /home/ec2-user/anaconda3/envs/python3/lib/python3.6/site-packages (0.3.27)\n",
      "Requirement already satisfied: wget in /home/ec2-user/anaconda3/envs/python3/lib/python3.6/site-packages (3.2)\n",
      "Collecting zipfile38\n",
      "  Downloading zipfile38-0.0.3.tar.gz (22 kB)\n",
      "Requirement already satisfied: cffi>=1.0 in /home/ec2-user/anaconda3/envs/python3/lib/python3.6/site-packages (from vosk) (1.14.5)\n",
      "Requirement already satisfied: pycparser in /home/ec2-user/anaconda3/envs/python3/lib/python3.6/site-packages (from cffi>=1.0->vosk) (2.20)\n",
      "Building wheels for collected packages: zipfile38\n",
      "  Building wheel for zipfile38 (setup.py) ... \u001b[?25ldone\n",
      "\u001b[?25h  Created wheel for zipfile38: filename=zipfile38-0.0.3-py3-none-any.whl size=22765 sha256=f5f9a1bd5192315fe5e2aa4daafdbd0b9e63b8595a9259da15bdd4955a57010c\n",
      "  Stored in directory: /home/ec2-user/.cache/pip/wheels/32/e9/b6/cf61548b40caf6cf2a84bb123064993db2215cc8c13f23f58e\n",
      "Successfully built zipfile38\n",
      "Installing collected packages: zipfile38\n",
      "Successfully installed zipfile38-0.0.3\n"
     ]
    }
   ],
   "source": [
    "!pip install vosk wget zipfile38"
   ]
  },
  {
   "cell_type": "code",
   "execution_count": 1,
   "id": "392554f2",
   "metadata": {},
   "outputs": [
    {
     "name": "stdout",
     "output_type": "stream",
     "text": [
      "--2021-05-09 22:46:52--  http://alphacephei.com/vosk/models/vosk-model-small-en-us-0.15.zip\n",
      "Resolving alphacephei.com (alphacephei.com)... 188.40.21.16, 2a01:4f8:13a:279f::2\n",
      "Connecting to alphacephei.com (alphacephei.com)|188.40.21.16|:80... connected.\n",
      "HTTP request sent, awaiting response... 301 Moved Permanently\n",
      "Location: https://alphacephei.com/vosk/models/vosk-model-small-en-us-0.15.zip [following]\n",
      "--2021-05-09 22:46:52--  https://alphacephei.com/vosk/models/vosk-model-small-en-us-0.15.zip\n",
      "Connecting to alphacephei.com (alphacephei.com)|188.40.21.16|:443... connected.\n",
      "HTTP request sent, awaiting response... 200 OK\n",
      "Length: 41205931 (39M) [application/zip]\n",
      "Saving to: ‘vosk-model-small-en-us-0.15.zip’\n",
      "\n",
      "vosk-model-small-en 100%[===================>]  39.30M  8.65MB/s    in 5.4s    \n",
      "\n",
      "2021-05-09 22:46:59 (7.29 MB/s) - ‘vosk-model-small-en-us-0.15.zip’ saved [41205931/41205931]\n",
      "\n"
     ]
    }
   ],
   "source": [
    "!wget http://alphacephei.com/vosk/models/vosk-model-small-en-us-0.15.zip"
   ]
  },
  {
   "cell_type": "code",
   "execution_count": 4,
   "id": "de3e9f50",
   "metadata": {},
   "outputs": [
    {
     "name": "stdout",
     "output_type": "stream",
     "text": [
      "Beginning file download with wget module\n"
     ]
    },
    {
     "data": {
      "text/plain": [
       "'vosk-model-small-en-us-0.15.zip'"
      ]
     },
     "execution_count": 4,
     "metadata": {},
     "output_type": "execute_result"
    }
   ],
   "source": [
    "import wget\n",
    "\n",
    "print('Beginning file download with wget module')\n",
    "\n",
    "url = 'http://alphacephei.com/vosk/models/vosk-model-small-en-us-0.15.zip'\n",
    "wget.download(url)"
   ]
  },
  {
   "cell_type": "code",
   "execution_count": 7,
   "id": "2f2808f7",
   "metadata": {},
   "outputs": [],
   "source": [
    "import zipfile\n",
    "with zipfile.ZipFile('vosk-model-small-en-us-0.15.zip', 'r') as zip_ref:\n",
    "    zip_ref.extractall()"
   ]
  },
  {
   "cell_type": "code",
   "execution_count": 12,
   "id": "13a254cf",
   "metadata": {},
   "outputs": [],
   "source": [
    "import boto3\n",
    "s3 = boto3.resource('s3')\n",
    "s3.Bucket('osama-sagemaker').download_file('audios/NSAC11.wav', 'NSAC11.wav')"
   ]
  },
  {
   "cell_type": "code",
   "execution_count": 15,
   "id": "5f9edc51",
   "metadata": {},
   "outputs": [],
   "source": [
    "import wave\n",
    "wf = wave.open('NSAC11.wav', \"rb\")"
   ]
  },
  {
   "cell_type": "code",
   "execution_count": 16,
   "id": "1ed49e34",
   "metadata": {},
   "outputs": [],
   "source": [
    "from vosk import Model, KaldiRecognizer, SetLogLevel\n",
    "model_name = 'vosk-model-small-en-us-0.15'\n",
    "model = Model(model_name)\n",
    "rec = KaldiRecognizer(model, wf.getframerate())"
   ]
  },
  {
   "cell_type": "code",
   "execution_count": 18,
   "id": "e47743b1",
   "metadata": {},
   "outputs": [
    {
     "name": "stdout",
     "output_type": "stream",
     "text": [
      "love had terrible rhythm on the dance floor but made sure we never missed a slow love\n"
     ]
    }
   ],
   "source": [
    "import json\n",
    "while True:\n",
    "    data = wf.readframes(4000)\n",
    "    if len(data) == 0:\n",
    "        break\n",
    "    if rec.AcceptWaveform(data):\n",
    "        print(rec.Result())\n",
    "\n",
    "res = json.loads(rec.FinalResult())\n",
    "print(res['text'])"
   ]
  },
  {
   "cell_type": "code",
   "execution_count": null,
   "id": "5116a048",
   "metadata": {},
   "outputs": [],
   "source": [
    "res['text']"
   ]
  },
  {
   "cell_type": "markdown",
   "id": "426d6c27",
   "metadata": {},
   "source": [
    "# Deployment"
   ]
  },
  {
   "cell_type": "code",
   "execution_count": 1,
   "id": "f3431cd6",
   "metadata": {},
   "outputs": [],
   "source": [
    "import os\n",
    "import json\n",
    "\n",
    "import boto3\n",
    "import sagemaker\n",
    "from sagemaker.pytorch import PyTorchModel\n",
    "from sagemaker import get_execution_role, Session\n",
    "\n",
    "sess = Session()\n",
    "role = get_execution_role()"
   ]
  },
  {
   "cell_type": "code",
   "execution_count": 2,
   "id": "315856c6",
   "metadata": {},
   "outputs": [],
   "source": [
    "model_path = 's3://osama-sagemaker/fake-models/model.tar.gz'\n",
    "endpoint_name = 'vosk-endpoint-test'"
   ]
  },
  {
   "cell_type": "code",
   "execution_count": 10,
   "id": "6d7917c2",
   "metadata": {},
   "outputs": [],
   "source": [
    "model = PyTorchModel(\n",
    "    entry_point='inference.py',\n",
    "    source_dir='code',\n",
    "    role=role,\n",
    "    model_data=model_path,\n",
    "    framework_version='1.5',\n",
    "    py_version='py3',\n",
    "    name=endpoint_name\n",
    "    )"
   ]
  },
  {
   "cell_type": "code",
   "execution_count": 11,
   "id": "626ba5b9",
   "metadata": {},
   "outputs": [
    {
     "name": "stderr",
     "output_type": "stream",
     "text": [
      "Using already existing model: vosk-endpoint-test\n"
     ]
    },
    {
     "name": "stdout",
     "output_type": "stream",
     "text": [
      "-------------------!"
     ]
    }
   ],
   "source": [
    "from sagemaker.serializers import JSONSerializer\n",
    "from sagemaker.deserializers import JSONDeserializer\n",
    "\n",
    "instance_type = 'ml.t2.medium'\n",
    "\n",
    "predictor = model.deploy(\n",
    "    initial_instance_count=1,\n",
    "    instance_type=instance_type,\n",
    "    serializer=JSONSerializer(),\n",
    "    deserializer=JSONDeserializer(),\n",
    "    name=endpoint_name\n",
    "    )"
   ]
  },
  {
   "cell_type": "code",
   "execution_count": 12,
   "id": "7e7adfd0",
   "metadata": {},
   "outputs": [],
   "source": [
    "data = {'bucket': 'osama-sagemaker',\n",
    "        'audio_path': 'audios/NSAC11.wav'}\n",
    "jstr = json.dumps(data)"
   ]
  },
  {
   "cell_type": "code",
   "execution_count": 13,
   "id": "fd95cad8",
   "metadata": {},
   "outputs": [
    {
     "data": {
      "text/plain": [
       "({'transcription': 'love had terrible rhythm on the dance floor but made sure we never missed a slow love'},\n",
       " 2.3821849822998047)"
      ]
     },
     "execution_count": 13,
     "metadata": {},
     "output_type": "execute_result"
    }
   ],
   "source": [
    "import time\n",
    "\n",
    "t1 = time.time()\n",
    "prediction = predictor.predict(data)\n",
    "\n",
    "prediction , time.time() - t1"
   ]
  }
 ],
 "metadata": {
  "kernelspec": {
   "display_name": "conda_python3",
   "language": "python",
   "name": "conda_python3"
  },
  "language_info": {
   "codemirror_mode": {
    "name": "ipython",
    "version": 3
   },
   "file_extension": ".py",
   "mimetype": "text/x-python",
   "name": "python",
   "nbconvert_exporter": "python",
   "pygments_lexer": "ipython3",
   "version": "3.6.13"
  }
 },
 "nbformat": 4,
 "nbformat_minor": 5
}
